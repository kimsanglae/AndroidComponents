{
  "nbformat": 4,
  "nbformat_minor": 0,
  "metadata": {
    "colab": {
      "name": "Untitled3.ipynb",
      "provenance": [],
      "authorship_tag": "ABX9TyM4GF6pzdZ4xyZN6x8vvaoB",
      "include_colab_link": true
    },
    "kernelspec": {
      "name": "python3",
      "display_name": "Python 3"
    }
  },
  "cells": [
    {
      "cell_type": "markdown",
      "metadata": {
        "id": "view-in-github",
        "colab_type": "text"
      },
      "source": [
        "<a href=\"https://colab.research.google.com/github/kimsanglae/AndroidComponents/blob/master/CNN_MNIST.ipynb\" target=\"_parent\"><img src=\"https://colab.research.google.com/assets/colab-badge.svg\" alt=\"Open In Colab\"/></a>"
      ]
    },
    {
      "cell_type": "markdown",
      "metadata": {
        "id": "AqVsl2yh_UmX"
      },
      "source": [
        "합성곱신경망 CNN"
      ]
    },
    {
      "cell_type": "code",
      "metadata": {
        "id": "SMzf3W_3-454"
      },
      "source": [
        "# Load library\r\n",
        "import tensorflow as tf\r\n",
        "import numpy as np\r\n",
        "import datetime"
      ],
      "execution_count": 1,
      "outputs": []
    },
    {
      "cell_type": "code",
      "metadata": {
        "id": "OUduzJQ2_mwU"
      },
      "source": [
        "# Set the parameter\r\n",
        "algorithm = 'CNN'\r\n",
        "\r\n",
        "img_size = 28\r\n",
        "data_size = img_size**2\r\n",
        "\r\n",
        "num_label = 10\r\n",
        "\r\n",
        "batch_size = 256\r\n",
        "num_epoch = 50\r\n",
        "\r\n",
        "learning_rate = 0.00025\r\n",
        "\r\n",
        "date_time = datetime.datetime.now().strftime(\"%Y%m%d-%H-%M-%S\")\r\n",
        "\r\n",
        "save_path = \"../saved_models/\" + date_time + \"_\" + algorithm\r\n",
        "load_path = \"../saved_models/20190312-11-12-35_CNN/model/model\"\r\n",
        "\r\n",
        "load_model = False"
      ],
      "execution_count": 3,
      "outputs": []
    },
    {
      "cell_type": "code",
      "metadata": {
        "colab": {
          "base_uri": "https://localhost:8080/"
        },
        "id": "6gk6rNM4IRp1",
        "outputId": "8186968e-58a3-437a-c251-539a07a6033b"
      },
      "source": [
        "# Load the dataset from MNIST ((x_train,y_train),(x_test, y_test))\r\n",
        "mnist = tf.keras.datasets.mnist.load_data(path='mnist.npz')\r\n",
        "\r\n",
        "# two tuple\r\n",
        "x_train = mnist[0][0] #47040000 28x28 60000\r\n",
        "y_train = mnist[0][1] #60000 [5 0 4 ... 5 6 8]\r\n",
        "x_test = mnist[1][0] #7840000 28x28 10000\r\n",
        "y_test = mnist[1][1] #10000 [7 2 1 ... 4 5 6]\r\n",
        "\r\n",
        "import matplotlib.pyplot as plt\r\n",
        "\r\n",
        "print(x_test.size)\r\n",
        "\r\n",
        "x_test = np.reshape(x_test, [-1, img_size, img_size, 1])\r\n",
        "\r\n",
        "#print(x_test.size) #7840000\r\n",
        "#print(x_test[0].size) #784\r\n",
        "#print(x_test[0][0].size) #28\r\n",
        "\r\n",
        "# one-hot encoding\r\n",
        "y_train_onehot = np.zeros([y_train.shape[0], num_label])\r\n",
        "y_test_onehot = np.zeros([y_test.shape[0], num_label])\r\n",
        "\r\n",
        "for i in range(y_train.shape[0]):\r\n",
        "  y_train_onehot[i, y_train[i]] = 1\r\n",
        "  \r\n",
        "for i in range(y_test.shape[0]):\r\n",
        "  y_test_onehot[i, y_test[i]] = 1\r\n",
        "\r\n",
        "# Cteate the Validation Set\r\n",
        "x_train, x_val = x_train[:len(x_train)*9//10], x_train[len(x_train)*9//10:]\r\n",
        "y_train_onehot, y_val_onehot = y_train_onehot[:len(y_train)*9//10], y_train_onehot[len(y_train)*9//10:]\r\n",
        "\r\n",
        "x_val = np.reshape(x_val, [-1, img_size, img_size, 1])"
      ],
      "execution_count": 65,
      "outputs": [
        {
          "output_type": "stream",
          "text": [
            "7840000\n"
          ],
          "name": "stdout"
        }
      ]
    },
    {
      "cell_type": "code",
      "metadata": {
        "id": "UCyW-JH-VJpG"
      },
      "source": [
        "(import matplotlib.pyplot as plt\r\n",
        "#plt.imshow(x_train[0])\r\n",
        "#plt.imshow(x_train[1])\r\n",
        "#plt.imshow(x_train[2])"
      ],
      "execution_count": null,
      "outputs": []
    }
  ]
}